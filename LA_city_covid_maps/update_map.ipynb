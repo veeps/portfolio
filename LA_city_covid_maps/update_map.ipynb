{
 "cells": [
  {
   "cell_type": "code",
   "execution_count": 1,
   "metadata": {},
   "outputs": [
    {
     "name": "stderr",
     "output_type": "stream",
     "text": [
      "/opt/anaconda3/lib/python3.7/site-packages/arcgis/features/_data/geodataset/utils.py:16: FutureWarning: The pandas.datetime class is deprecated and will be removed from pandas in a future version. Import from datetime module instead.\n",
      "  pd.datetime,\n"
     ]
    }
   ],
   "source": [
    "from arcgis.gis import GIS\n",
    "from arcgis import features\n",
    "from getpass import getpass #to accept passwords in an interactive fashion\n",
    "from arcgis.features import FeatureLayer\n",
    "from arcgis.features import SpatialDataFrame\n",
    "from copy import deepcopy\n",
    "import pandas as pd\n",
    "import pickle\n",
    "pd.set_option('display.max_columns', None)"
   ]
  },
  {
   "cell_type": "markdown",
   "metadata": {},
   "source": [
    "## Configure GIS connection"
   ]
  },
  {
   "cell_type": "code",
   "execution_count": 2,
   "metadata": {},
   "outputs": [],
   "source": [
    "gis = GIS(url=\"http://lahub.maps.arcgis.com/home/organization.html\",\n",
    "          username=\"vivian.peng_lahub\",password=\"#\") #add your ArcGIS username and password here"
   ]
  },
  {
   "cell_type": "markdown",
   "metadata": {},
   "source": [
    "## Update Test Positivity Layer"
   ]
  },
  {
   "cell_type": "markdown",
   "metadata": {},
   "source": [
    "#### Load loayers from ArcGIS"
   ]
  },
  {
   "cell_type": "code",
   "execution_count": 3,
   "metadata": {},
   "outputs": [
    {
     "ename": "KeyboardInterrupt",
     "evalue": "",
     "output_type": "error",
     "traceback": [
      "\u001b[0;31m---------------------------------------------------------------------------\u001b[0m",
      "\u001b[0;31mKeyboardInterrupt\u001b[0m                         Traceback (most recent call last)",
      "\u001b[0;32m<ipython-input-3-f4155a3ff518>\u001b[0m in \u001b[0;36m<module>\u001b[0;34m\u001b[0m\n\u001b[1;32m      1\u001b[0m \u001b[0;31m# load test positivity layer\u001b[0m\u001b[0;34m\u001b[0m\u001b[0;34m\u001b[0m\u001b[0;34m\u001b[0m\u001b[0m\n\u001b[1;32m      2\u001b[0m \u001b[0mtests_layer\u001b[0m \u001b[0;34m=\u001b[0m \u001b[0mgis\u001b[0m\u001b[0;34m.\u001b[0m\u001b[0mcontent\u001b[0m\u001b[0;34m.\u001b[0m\u001b[0msearch\u001b[0m\u001b[0;34m(\u001b[0m\u001b[0;34m'title:Join_Test_Positivity_County_Zip'\u001b[0m\u001b[0;34m)\u001b[0m\u001b[0;34m[\u001b[0m\u001b[0;36m1\u001b[0m\u001b[0;34m]\u001b[0m\u001b[0;34m.\u001b[0m\u001b[0mlayers\u001b[0m\u001b[0;34m[\u001b[0m\u001b[0;36m0\u001b[0m\u001b[0;34m]\u001b[0m\u001b[0;34m\u001b[0m\u001b[0;34m\u001b[0m\u001b[0m\n\u001b[0;32m----> 3\u001b[0;31m \u001b[0mupdate_features\u001b[0m \u001b[0;34m=\u001b[0m \u001b[0mtests_layer\u001b[0m\u001b[0;34m.\u001b[0m\u001b[0mquery\u001b[0m\u001b[0;34m(\u001b[0m\u001b[0;34m)\u001b[0m\u001b[0;34m.\u001b[0m\u001b[0mfeatures\u001b[0m\u001b[0;34m\u001b[0m\u001b[0;34m\u001b[0m\u001b[0m\n\u001b[0m",
      "\u001b[0;32m/opt/anaconda3/lib/python3.7/site-packages/arcgis/features/layer.py\u001b[0m in \u001b[0;36mquery\u001b[0;34m(self, where, out_fields, time_filter, geometry_filter, return_geometry, return_count_only, return_ids_only, return_distinct_values, return_extent_only, group_by_fields_for_statistics, statistic_filter, result_offset, result_record_count, object_ids, distance, units, max_allowable_offset, out_sr, geometry_precision, gdb_version, order_by_fields, out_statistics, return_z, return_m, multipatch_option, quantization_parameters, return_centroid, return_all_records, result_type, historic_moment, sql_format, return_true_curves, return_exceeded_limit_features, as_df, **kwargs)\u001b[0m\n\u001b[1;32m    750\u001b[0m                 \u001b[0;32mreturn\u001b[0m \u001b[0mdf\u001b[0m\u001b[0;34m\u001b[0m\u001b[0;34m\u001b[0m\u001b[0m\n\u001b[1;32m    751\u001b[0m \u001b[0;34m\u001b[0m\u001b[0m\n\u001b[0;32m--> 752\u001b[0;31m             \u001b[0;32mreturn\u001b[0m \u001b[0mself\u001b[0m\u001b[0;34m.\u001b[0m\u001b[0m_query\u001b[0m\u001b[0;34m(\u001b[0m\u001b[0murl\u001b[0m\u001b[0;34m,\u001b[0m \u001b[0mparams\u001b[0m\u001b[0;34m,\u001b[0m \u001b[0mraw\u001b[0m\u001b[0;34m=\u001b[0m\u001b[0mas_raw\u001b[0m\u001b[0;34m)\u001b[0m\u001b[0;34m\u001b[0m\u001b[0;34m\u001b[0m\u001b[0m\n\u001b[0m\u001b[1;32m    753\u001b[0m \u001b[0;34m\u001b[0m\u001b[0m\n\u001b[1;32m    754\u001b[0m         \u001b[0mresult\u001b[0m \u001b[0;34m=\u001b[0m \u001b[0;32mNone\u001b[0m\u001b[0;34m\u001b[0m\u001b[0;34m\u001b[0m\u001b[0m\n",
      "\u001b[0;32m/opt/anaconda3/lib/python3.7/site-packages/arcgis/features/layer.py\u001b[0m in \u001b[0;36m_query\u001b[0;34m(self, url, params, raw)\u001b[0m\n\u001b[1;32m   1397\u001b[0m         \u001b[0;34m\"\"\" returns results of query \"\"\"\u001b[0m\u001b[0;34m\u001b[0m\u001b[0;34m\u001b[0m\u001b[0m\n\u001b[1;32m   1398\u001b[0m         result = self._con.post(path=url,\n\u001b[0;32m-> 1399\u001b[0;31m                                 postdata=params, token=self._token)\n\u001b[0m\u001b[1;32m   1400\u001b[0m         \u001b[0;32mif\u001b[0m \u001b[0;34m'error'\u001b[0m \u001b[0;32min\u001b[0m \u001b[0mresult\u001b[0m\u001b[0;34m:\u001b[0m\u001b[0;34m\u001b[0m\u001b[0;34m\u001b[0m\u001b[0m\n\u001b[1;32m   1401\u001b[0m             \u001b[0;32mraise\u001b[0m \u001b[0mValueError\u001b[0m\u001b[0;34m(\u001b[0m\u001b[0mresult\u001b[0m\u001b[0;34m)\u001b[0m\u001b[0;34m\u001b[0m\u001b[0;34m\u001b[0m\u001b[0m\n",
      "\u001b[0;32m/opt/anaconda3/lib/python3.7/site-packages/arcgis/_impl/connection.py\u001b[0m in \u001b[0;36mpost\u001b[0;34m(self, path, postdata, files, ssl, compress, is_retry, use_ordered_dict, add_token, verify_cert, token, try_json, out_folder, file_name, force_bytes, add_headers)\u001b[0m\n\u001b[1;32m   1123\u001b[0m             \u001b[0mresp_json\u001b[0m \u001b[0;34m=\u001b[0m \u001b[0mjson\u001b[0m\u001b[0;34m.\u001b[0m\u001b[0mloads\u001b[0m\u001b[0;34m(\u001b[0m\u001b[0mresp_data\u001b[0m\u001b[0;34m,\u001b[0m \u001b[0mobject_pairs_hook\u001b[0m\u001b[0;34m=\u001b[0m\u001b[0mOrderedDict\u001b[0m\u001b[0;34m)\u001b[0m\u001b[0;34m\u001b[0m\u001b[0;34m\u001b[0m\u001b[0m\n\u001b[1;32m   1124\u001b[0m         \u001b[0;32melse\u001b[0m\u001b[0;34m:\u001b[0m\u001b[0;34m\u001b[0m\u001b[0;34m\u001b[0m\u001b[0m\n\u001b[0;32m-> 1125\u001b[0;31m             \u001b[0mresp_json\u001b[0m \u001b[0;34m=\u001b[0m \u001b[0mjson\u001b[0m\u001b[0;34m.\u001b[0m\u001b[0mloads\u001b[0m\u001b[0;34m(\u001b[0m\u001b[0mresp_data\u001b[0m\u001b[0;34m)\u001b[0m\u001b[0;34m\u001b[0m\u001b[0;34m\u001b[0m\u001b[0m\n\u001b[0m\u001b[1;32m   1126\u001b[0m \u001b[0;34m\u001b[0m\u001b[0m\n\u001b[1;32m   1127\u001b[0m \u001b[0;34m\u001b[0m\u001b[0m\n",
      "\u001b[0;32m/opt/anaconda3/lib/python3.7/json/__init__.py\u001b[0m in \u001b[0;36mloads\u001b[0;34m(s, encoding, cls, object_hook, parse_float, parse_int, parse_constant, object_pairs_hook, **kw)\u001b[0m\n\u001b[1;32m    346\u001b[0m             \u001b[0mparse_int\u001b[0m \u001b[0;32mis\u001b[0m \u001b[0;32mNone\u001b[0m \u001b[0;32mand\u001b[0m \u001b[0mparse_float\u001b[0m \u001b[0;32mis\u001b[0m \u001b[0;32mNone\u001b[0m \u001b[0;32mand\u001b[0m\u001b[0;34m\u001b[0m\u001b[0;34m\u001b[0m\u001b[0m\n\u001b[1;32m    347\u001b[0m             parse_constant is None and object_pairs_hook is None and not kw):\n\u001b[0;32m--> 348\u001b[0;31m         \u001b[0;32mreturn\u001b[0m \u001b[0m_default_decoder\u001b[0m\u001b[0;34m.\u001b[0m\u001b[0mdecode\u001b[0m\u001b[0;34m(\u001b[0m\u001b[0ms\u001b[0m\u001b[0;34m)\u001b[0m\u001b[0;34m\u001b[0m\u001b[0;34m\u001b[0m\u001b[0m\n\u001b[0m\u001b[1;32m    349\u001b[0m     \u001b[0;32mif\u001b[0m \u001b[0mcls\u001b[0m \u001b[0;32mis\u001b[0m \u001b[0;32mNone\u001b[0m\u001b[0;34m:\u001b[0m\u001b[0;34m\u001b[0m\u001b[0;34m\u001b[0m\u001b[0m\n\u001b[1;32m    350\u001b[0m         \u001b[0mcls\u001b[0m \u001b[0;34m=\u001b[0m \u001b[0mJSONDecoder\u001b[0m\u001b[0;34m\u001b[0m\u001b[0;34m\u001b[0m\u001b[0m\n",
      "\u001b[0;32m/opt/anaconda3/lib/python3.7/json/decoder.py\u001b[0m in \u001b[0;36mdecode\u001b[0;34m(self, s, _w)\u001b[0m\n\u001b[1;32m    335\u001b[0m \u001b[0;34m\u001b[0m\u001b[0m\n\u001b[1;32m    336\u001b[0m         \"\"\"\n\u001b[0;32m--> 337\u001b[0;31m         \u001b[0mobj\u001b[0m\u001b[0;34m,\u001b[0m \u001b[0mend\u001b[0m \u001b[0;34m=\u001b[0m \u001b[0mself\u001b[0m\u001b[0;34m.\u001b[0m\u001b[0mraw_decode\u001b[0m\u001b[0;34m(\u001b[0m\u001b[0ms\u001b[0m\u001b[0;34m,\u001b[0m \u001b[0midx\u001b[0m\u001b[0;34m=\u001b[0m\u001b[0m_w\u001b[0m\u001b[0;34m(\u001b[0m\u001b[0ms\u001b[0m\u001b[0;34m,\u001b[0m \u001b[0;36m0\u001b[0m\u001b[0;34m)\u001b[0m\u001b[0;34m.\u001b[0m\u001b[0mend\u001b[0m\u001b[0;34m(\u001b[0m\u001b[0;34m)\u001b[0m\u001b[0;34m)\u001b[0m\u001b[0;34m\u001b[0m\u001b[0;34m\u001b[0m\u001b[0m\n\u001b[0m\u001b[1;32m    338\u001b[0m         \u001b[0mend\u001b[0m \u001b[0;34m=\u001b[0m \u001b[0m_w\u001b[0m\u001b[0;34m(\u001b[0m\u001b[0ms\u001b[0m\u001b[0;34m,\u001b[0m \u001b[0mend\u001b[0m\u001b[0;34m)\u001b[0m\u001b[0;34m.\u001b[0m\u001b[0mend\u001b[0m\u001b[0;34m(\u001b[0m\u001b[0;34m)\u001b[0m\u001b[0;34m\u001b[0m\u001b[0;34m\u001b[0m\u001b[0m\n\u001b[1;32m    339\u001b[0m         \u001b[0;32mif\u001b[0m \u001b[0mend\u001b[0m \u001b[0;34m!=\u001b[0m \u001b[0mlen\u001b[0m\u001b[0;34m(\u001b[0m\u001b[0ms\u001b[0m\u001b[0;34m)\u001b[0m\u001b[0;34m:\u001b[0m\u001b[0;34m\u001b[0m\u001b[0;34m\u001b[0m\u001b[0m\n",
      "\u001b[0;32m/opt/anaconda3/lib/python3.7/json/decoder.py\u001b[0m in \u001b[0;36mraw_decode\u001b[0;34m(self, s, idx)\u001b[0m\n\u001b[1;32m    351\u001b[0m         \"\"\"\n\u001b[1;32m    352\u001b[0m         \u001b[0;32mtry\u001b[0m\u001b[0;34m:\u001b[0m\u001b[0;34m\u001b[0m\u001b[0;34m\u001b[0m\u001b[0m\n\u001b[0;32m--> 353\u001b[0;31m             \u001b[0mobj\u001b[0m\u001b[0;34m,\u001b[0m \u001b[0mend\u001b[0m \u001b[0;34m=\u001b[0m \u001b[0mself\u001b[0m\u001b[0;34m.\u001b[0m\u001b[0mscan_once\u001b[0m\u001b[0;34m(\u001b[0m\u001b[0ms\u001b[0m\u001b[0;34m,\u001b[0m \u001b[0midx\u001b[0m\u001b[0;34m)\u001b[0m\u001b[0;34m\u001b[0m\u001b[0;34m\u001b[0m\u001b[0m\n\u001b[0m\u001b[1;32m    354\u001b[0m         \u001b[0;32mexcept\u001b[0m \u001b[0mStopIteration\u001b[0m \u001b[0;32mas\u001b[0m \u001b[0merr\u001b[0m\u001b[0;34m:\u001b[0m\u001b[0;34m\u001b[0m\u001b[0;34m\u001b[0m\u001b[0m\n\u001b[1;32m    355\u001b[0m             \u001b[0;32mraise\u001b[0m \u001b[0mJSONDecodeError\u001b[0m\u001b[0;34m(\u001b[0m\u001b[0;34m\"Expecting value\"\u001b[0m\u001b[0;34m,\u001b[0m \u001b[0ms\u001b[0m\u001b[0;34m,\u001b[0m \u001b[0merr\u001b[0m\u001b[0;34m.\u001b[0m\u001b[0mvalue\u001b[0m\u001b[0;34m)\u001b[0m \u001b[0;32mfrom\u001b[0m \u001b[0;32mNone\u001b[0m\u001b[0;34m\u001b[0m\u001b[0;34m\u001b[0m\u001b[0m\n",
      "\u001b[0;31mKeyboardInterrupt\u001b[0m: "
     ]
    }
   ],
   "source": [
    "# load test positivity layer\n",
    "tests_layer = gis.content.search('title:Join_Test_Positivity_County_Zip')[1].layers[0] \n",
    "update_features = tests_layer.query().features"
   ]
  },
  {
   "cell_type": "markdown",
   "metadata": {},
   "source": [
    "#### Read in updated data"
   ]
  },
  {
   "cell_type": "code",
   "execution_count": 6,
   "metadata": {},
   "outputs": [],
   "source": [
    "# read in updated data\n",
    "test_positivity = pd.read_csv(\"data/test_positivity_zip.csv\")\n",
    "test_positivity[\"Zip\"] = test_positivity[\"Zip\"].astype(str)"
   ]
  },
  {
   "cell_type": "code",
   "execution_count": 7,
   "metadata": {},
   "outputs": [
    {
     "data": {
      "text/html": [
       "<div>\n",
       "<style scoped>\n",
       "    .dataframe tbody tr th:only-of-type {\n",
       "        vertical-align: middle;\n",
       "    }\n",
       "\n",
       "    .dataframe tbody tr th {\n",
       "        vertical-align: top;\n",
       "    }\n",
       "\n",
       "    .dataframe thead th {\n",
       "        text-align: right;\n",
       "    }\n",
       "</style>\n",
       "<table border=\"1\" class=\"dataframe\">\n",
       "  <thead>\n",
       "    <tr style=\"text-align: right;\">\n",
       "      <th></th>\n",
       "      <th>Zip</th>\n",
       "      <th>Need New Sample</th>\n",
       "      <th>Negative</th>\n",
       "      <th>Positive</th>\n",
       "      <th>Total</th>\n",
       "      <th>Test Posivitiy</th>\n",
       "      <th>Date</th>\n",
       "    </tr>\n",
       "  </thead>\n",
       "  <tbody>\n",
       "    <tr>\n",
       "      <th>0</th>\n",
       "      <td>0</td>\n",
       "      <td>0</td>\n",
       "      <td>1</td>\n",
       "      <td>0</td>\n",
       "      <td>1</td>\n",
       "      <td>0.0</td>\n",
       "      <td>2021-06-18</td>\n",
       "    </tr>\n",
       "    <tr>\n",
       "      <th>1</th>\n",
       "      <td>924</td>\n",
       "      <td>0</td>\n",
       "      <td>1</td>\n",
       "      <td>0</td>\n",
       "      <td>1</td>\n",
       "      <td>0.0</td>\n",
       "      <td>2021-06-18</td>\n",
       "    </tr>\n",
       "    <tr>\n",
       "      <th>2</th>\n",
       "      <td>982</td>\n",
       "      <td>0</td>\n",
       "      <td>1</td>\n",
       "      <td>0</td>\n",
       "      <td>1</td>\n",
       "      <td>0.0</td>\n",
       "      <td>2021-06-18</td>\n",
       "    </tr>\n",
       "    <tr>\n",
       "      <th>3</th>\n",
       "      <td>1056</td>\n",
       "      <td>0</td>\n",
       "      <td>1</td>\n",
       "      <td>0</td>\n",
       "      <td>1</td>\n",
       "      <td>0.0</td>\n",
       "      <td>2021-06-18</td>\n",
       "    </tr>\n",
       "    <tr>\n",
       "      <th>4</th>\n",
       "      <td>1830</td>\n",
       "      <td>0</td>\n",
       "      <td>1</td>\n",
       "      <td>0</td>\n",
       "      <td>1</td>\n",
       "      <td>0.0</td>\n",
       "      <td>2021-06-18</td>\n",
       "    </tr>\n",
       "  </tbody>\n",
       "</table>\n",
       "</div>"
      ],
      "text/plain": [
       "    Zip  Need New Sample  Negative  Positive  Total  Test Posivitiy  \\\n",
       "0     0                0         1         0      1             0.0   \n",
       "1   924                0         1         0      1             0.0   \n",
       "2   982                0         1         0      1             0.0   \n",
       "3  1056                0         1         0      1             0.0   \n",
       "4  1830                0         1         0      1             0.0   \n",
       "\n",
       "         Date  \n",
       "0  2021-06-18  \n",
       "1  2021-06-18  \n",
       "2  2021-06-18  \n",
       "3  2021-06-18  \n",
       "4  2021-06-18  "
      ]
     },
     "execution_count": 7,
     "metadata": {},
     "output_type": "execute_result"
    }
   ],
   "source": [
    "test_positivity.head()"
   ]
  },
  {
   "cell_type": "code",
   "execution_count": 8,
   "metadata": {},
   "outputs": [],
   "source": [
    "# Read in list of zip codes\n",
    "with open (\"data/LA_county_zips.data\", \"rb\") as filehandle:\n",
    "    LA_county_zips = pickle.load(filehandle)"
   ]
  },
  {
   "cell_type": "code",
   "execution_count": 9,
   "metadata": {},
   "outputs": [],
   "source": [
    "# filter for LA County\n",
    "test_positivity = test_positivity[test_positivity[\"Zip\"].isin(LA_county_zips)]"
   ]
  },
  {
   "cell_type": "code",
   "execution_count": 10,
   "metadata": {},
   "outputs": [],
   "source": [
    "#loop through ZIPs and set new values\n",
    "for v in test_positivity.values:\n",
    "    #[f for f in update_features if f.attributes['GEOID10']==v[0]][0].attributes[\"Indeterminate\"]= v[1]\n",
    "    [f for f in update_features if f.attributes['GEOID10']==v[0]][0].attributes[\"Need New Sample\"]= v[1]\n",
    "    [f for f in update_features if f.attributes['GEOID10']==v[0]][0].attributes['Negative'] = v[2]\n",
    "    [f for f in update_features if f.attributes['GEOID10']==v[0]][0].attributes['Positive'] = v[3]\n",
    "    [f for f in update_features if f.attributes['GEOID10']==v[0]][0].attributes['Total'] = v[4]\n",
    "    [f for f in update_features if f.attributes['GEOID10']==v[0]][0].attributes['Test Posivitiy'] = v[5]\n",
    "    [f for f in update_features if f.attributes['GEOID10']==v[0]][0].attributes['Date'] = v[6]"
   ]
  },
  {
   "cell_type": "code",
   "execution_count": 11,
   "metadata": {},
   "outputs": [],
   "source": [
    "#edit features to match the updated features\n",
    "for f in update_features:\n",
    "    tests_layer.edit_features(updates=[f])"
   ]
  },
  {
   "cell_type": "markdown",
   "metadata": {},
   "source": [
    "## Update Case/Deaths Layers"
   ]
  },
  {
   "cell_type": "code",
   "execution_count": 4,
   "metadata": {},
   "outputs": [],
   "source": [
    "import numpy as np"
   ]
  },
  {
   "cell_type": "code",
   "execution_count": 5,
   "metadata": {},
   "outputs": [],
   "source": [
    "# read in updated data\n",
    "county = pd.read_csv(\"data/testing_neighborhoods.csv\")\n",
    "county = county[county[\"Neighborhood\"]!='MISCELLANEOUS**']\n",
    "county[\"Neighborhood\"] = county[\"Neighborhood\"].str.upper()"
   ]
  },
  {
   "cell_type": "code",
   "execution_count": 6,
   "metadata": {},
   "outputs": [],
   "source": [
    "# clean vaccination rate columns\n",
    "vax_columns = [\"percent_of_ppl_vaccinated\", \"percent_12_to_17_vaccinated\", \"percent_65_plus_vaccinated\"]"
   ]
  },
  {
   "cell_type": "code",
   "execution_count": 7,
   "metadata": {},
   "outputs": [],
   "source": [
    "def clean_vax_columns(df, col):\n",
    "    df[col] = df[col].replace(\"Unreliable Data\", np.NaN)\n",
    "    df[col] = df[col].str.replace(\"%\", \"\")  \n",
    "    df[col] = df[col].astype(float)"
   ]
  },
  {
   "cell_type": "code",
   "execution_count": 8,
   "metadata": {},
   "outputs": [],
   "source": [
    "for col in vax_columns:\n",
    "    clean_vax_columns(county, col)\n",
    "    "
   ]
  },
  {
   "cell_type": "code",
   "execution_count": 9,
   "metadata": {},
   "outputs": [],
   "source": [
    "def update_cases_deaths_layer(title, county):\n",
    "    # load layers\n",
    "    layer = gis.content.search(title)[0].layers[0] \n",
    "    update_features = layer.query().features\n",
    "    hp_tb = county[(county[\"Neighborhood\"]== \"HYDE PARK\") |(county[\"Neighborhood\"]== \"TEMPLE-BEAUDRY\")]\n",
    "    \n",
    "    #loop through and set new values\n",
    "    for v in county.values:\n",
    "        [f for f in update_features if f.attributes['COMTY_NAME']==v[0]][0].attributes[\"New_Cases\"]= v[4]\n",
    "        [f for f in update_features if f.attributes['COMTY_NAME']==v[0]][0].attributes[\"New_Deaths\"]= v[5]\n",
    "        [f for f in update_features if f.attributes['COMTY_NAME']==v[0]][0].attributes['Two_Week_Crude_IR__per_100k_'] = v[1]\n",
    "        [f for f in update_features if f.attributes['COMTY_NAME']==v[0]][0].attributes['adj_case_rate'] = v[2]\n",
    "        [f for f in update_features if f.attributes['COMTY_NAME']==v[0]][0].attributes['Cumulative_Confirmed_Case_Count'] = v[7]\n",
    "        [f for f in update_features if f.attributes['COMTY_NAME']==v[0]][0].attributes['Cumulative_Death_Count'] = v[8]\n",
    "        [f for f in update_features if f.attributes['COMTY_NAME']==v[0]][0].attributes['Date_1'] = v[3]\n",
    "        [f for f in update_features if f.attributes['COMTY_NAME']==v[0]][0].attributes['top_trends_cases'] = v[15]\n",
    "        [f for f in update_features if f.attributes['COMTY_NAME']==v[0]][0].attributes['top_new_cases'] = v[16]\n",
    "        [f for f in update_features if f.attributes['COMTY_NAME']==v[0]][0].attributes['vax_rate'] = v[11]\n",
    "        [f for f in update_features if f.attributes['COMTY_NAME']==v[0]][0].attributes[\"persons_vaccinated\"] = v[10]\n",
    "        [f for f in update_features if f.attributes['COMTY_NAME']==v[0]][0].attributes['youth_vaccinated'] = v[12]\n",
    "        [f for f in update_features if f.attributes['COMTY_NAME']==v[0]][0].attributes['seniors_vaccinated'] = v[13]\n",
    "        \n",
    "    #edit features to match the updated features\n",
    "    for f in update_features:\n",
    "        layer.edit_features(updates=[f])\n",
    "    \n",
    "    # Update Hyde Park\n",
    "    hp_feature = [f for f in update_features if f.attributes['OBJECTID'] == 75][0]\n",
    "    hp_edit = hp_feature\n",
    "    hp_edit.attributes[\"New_Cases\"]= hp_tb.iloc[0,4]\n",
    "    hp_edit.attributes[\"New_Deaths\"]= hp_tb.iloc[0,5]\n",
    "    hp_edit.attributes['Two_Week_Crude_IR__per_100k_'] = hp_tb.iloc[0,1]\n",
    "    hp_edit.attributes['adj_case_rate'] = hp_tb.iloc[0,2]\n",
    "    hp_edit.attributes['Cumulative_Confirmed_Case_Count'] = hp_tb.iloc[0,7]\n",
    "    hp_edit.attributes['Cumulative_Death_Count'] = hp_tb.iloc[0,8]\n",
    "    hp_edit.attributes['Date_1'] = hp_tb.iloc[0,3]\n",
    "    hp_edit.attributes['top_trends_cases'] = hp_tb.iloc[0,15]\n",
    "    hp_edit.attributes['top_new_cases'] = hp_tb.iloc[0,16]\n",
    "    hp_edit.attributes['vax_rate'] = hp_tb.iloc[0,11]\n",
    "    hp_edit.attributes['persons_vaccinated'] = hp_tb.iloc[0,10]\n",
    "    hp_edit.attributes['youth_vaccinated'] = hp_tb.iloc[0,12]\n",
    "    hp_edit.attributes['seniors_vaccinated'] = hp_tb.iloc[0,13]\n",
    "        \n",
    "    # Update Temple-Beaudry  \n",
    "    tb_feature = [f for f in update_features if f.attributes['OBJECTID'] == 57][0]\n",
    "    tb_edit = tb_feature\n",
    "    tb_edit.attributes[\"New_Cases\"]= hp_tb.iloc[1,4]\n",
    "    tb_edit.attributes[\"New_Deaths\"]= hp_tb.iloc[1,5]\n",
    "    tb_edit.attributes['Two_Week_Crude_IR__per_100k_'] = hp_tb.iloc[1,1]\n",
    "    tb_edit.attributes['adj_case_rate'] = hp_tb.iloc[1,2]\n",
    "    tb_edit.attributes['Cumulative_Confirmed_Case_Count'] = hp_tb.iloc[1,7]\n",
    "    tb_edit.attributes['Cumulative_Death_Count'] = hp_tb.iloc[1,8]\n",
    "    tb_edit.attributes['Date_1'] = hp_tb.iloc[1,3]\n",
    "    tb_edit.attributes['top_trends_cases'] = hp_tb.iloc[1,15]\n",
    "    tb_edit.attributes['top_new_cases'] = hp_tb.iloc[1,16]\n",
    "    tb_edit.attributes['vax_rate'] = hp_tb.iloc[0,11]\n",
    "    tb_edit.attributes['persons_vaccinated'] = hp_tb.iloc[0,10]\n",
    "    tb_edit.attributes['youth_vaccinated'] = hp_tb.iloc[0,12]\n",
    "    tb_edit.attributes['seniors_vaccinated'] = hp_tb.iloc[0,13]\n",
    "    \n",
    "    layer.edit_features(updates = [hp_edit])\n",
    "    layer.edit_features(updates = [tb_edit])\n",
    "    \n",
    "    \n"
   ]
  },
  {
   "cell_type": "code",
   "execution_count": 9,
   "metadata": {},
   "outputs": [],
   "source": [
    "# layers_to_update =[\"title:Two_Week_Case_Rates\", \"title:New_Cases_in_Last_7_Days\", \"title:New_Deaths_in_Last_7_Days\",\"title:Top_Trends_Case_Rate\",  \"title:Top_Trends_New_Cases\",]\n",
    "# for layer in layers_to_update:\n",
    "   # update_cases_deaths_layer(layer, county)"
   ]
  },
  {
   "cell_type": "code",
   "execution_count": 12,
   "metadata": {
    "scrolled": true
   },
   "outputs": [],
   "source": [
    "update_cases_deaths_layer('title:Two_Week_Case_Rates', county)"
   ]
  },
  {
   "cell_type": "markdown",
   "metadata": {},
   "source": [
    "## Update Testing Sites Layer"
   ]
  },
  {
   "cell_type": "code",
   "execution_count": 13,
   "metadata": {},
   "outputs": [],
   "source": [
    "from arcgis.features import FeatureLayerCollection"
   ]
  },
  {
   "cell_type": "code",
   "execution_count": 14,
   "metadata": {},
   "outputs": [],
   "source": [
    "flayer = gis.content.get(\"1624e8fb02e54d138e2b5206dac23998\")"
   ]
  },
  {
   "cell_type": "code",
   "execution_count": 15,
   "metadata": {},
   "outputs": [],
   "source": [
    "flayer_collection = FeatureLayerCollection.fromitem(flayer)"
   ]
  },
  {
   "cell_type": "code",
   "execution_count": 16,
   "metadata": {},
   "outputs": [
    {
     "data": {
      "text/plain": [
       "{'success': True}"
      ]
     },
     "execution_count": 16,
     "metadata": {},
     "output_type": "execute_result"
    }
   ],
   "source": [
    "flayer_collection.manager.overwrite(\"data/mobile_testing_sites.csv\")"
   ]
  },
  {
   "cell_type": "markdown",
   "metadata": {},
   "source": [
    "## Creating new fields"
   ]
  },
  {
   "cell_type": "code",
   "execution_count": 5,
   "metadata": {},
   "outputs": [],
   "source": [
    "layer = gis.content.search('title:Two_Week_Case_Rates')[0].layers[0] \n",
    "layer_fields = layer.manager.properties.fields"
   ]
  },
  {
   "cell_type": "code",
   "execution_count": 6,
   "metadata": {},
   "outputs": [],
   "source": [
    "new_fields = ['youth_vaccinated', \"seniors_vaccinated\"]"
   ]
  },
  {
   "cell_type": "code",
   "execution_count": 22,
   "metadata": {},
   "outputs": [],
   "source": [
    "template_field = dict(deepcopy(layer_fields[13]))"
   ]
  },
  {
   "cell_type": "code",
   "execution_count": 23,
   "metadata": {},
   "outputs": [
    {
     "data": {
      "text/plain": [
       "{'name': 'vax_rate',\n",
       " 'type': 'esriFieldTypeDouble',\n",
       " 'actualType': 'decimal',\n",
       " 'alias': 'vax_rate',\n",
       " 'sqlType': 'sqlTypeDecimal',\n",
       " 'nullable': True,\n",
       " 'editable': True,\n",
       " 'visible': True,\n",
       " 'domain': None,\n",
       " 'defaultValue': None}"
      ]
     },
     "execution_count": 23,
     "metadata": {},
     "output_type": "execute_result"
    }
   ],
   "source": [
    "template_field"
   ]
  },
  {
   "cell_type": "code",
   "execution_count": 24,
   "metadata": {},
   "outputs": [
    {
     "data": {
      "text/plain": [
       "{'success': True}"
      ]
     },
     "execution_count": 24,
     "metadata": {},
     "output_type": "execute_result"
    }
   ],
   "source": [
    "#set up new definition and add to dictionary\n",
    "fields_to_be_added = []\n",
    "\n",
    "#create ammended dictionary for each new field\n",
    "for new_field_name in new_fields:\n",
    "    current_field = deepcopy(template_field)\n",
    "    current_field['name'] = new_field_name.lower()\n",
    "    current_field['alias'] = new_field_name\n",
    "    fields_to_be_added.append(current_field)\n",
    "    \n",
    "    \n",
    "#add definition\n",
    "layer.manager.add_to_definition({'fields':fields_to_be_added})"
   ]
  }
 ],
 "metadata": {
  "kernelspec": {
   "display_name": "Python 3",
   "language": "python",
   "name": "python3"
  },
  "language_info": {
   "codemirror_mode": {
    "name": "ipython",
    "version": 3
   },
   "file_extension": ".py",
   "mimetype": "text/x-python",
   "name": "python",
   "nbconvert_exporter": "python",
   "pygments_lexer": "ipython3",
   "version": "3.7.4"
  }
 },
 "nbformat": 4,
 "nbformat_minor": 2
}

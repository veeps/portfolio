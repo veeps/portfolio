{
 "cells": [
  {
   "cell_type": "code",
   "execution_count": 1,
   "metadata": {},
   "outputs": [],
   "source": [
    "import warnings\n",
    "warnings.simplefilter(action='ignore', category=FutureWarning)"
   ]
  },
  {
   "cell_type": "code",
   "execution_count": 2,
   "metadata": {},
   "outputs": [],
   "source": [
    "import os, sys, subprocess\n",
    "import json\n",
    "import pandas as pd\n",
    "import datetime as dt\n",
    "import pytz\n",
    "import numpy as np\n",
    "pd.set_option('display.max_columns', None)"
   ]
  },
  {
   "cell_type": "markdown",
   "metadata": {},
   "source": [
    "##  What fields to get from county data\n",
    "- Two Week Crude IR* (per 100k)\n",
    "- Newly Confirmed Case Count\n",
    "- Newly Reported Death Count"
   ]
  },
  {
   "cell_type": "markdown",
   "metadata": {},
   "source": [
    "## Time frame for week"
   ]
  },
  {
   "cell_type": "markdown",
   "metadata": {},
   "source": [
    "- Week start date: Saturday\n",
    "- Week end date: Friday"
   ]
  },
  {
   "cell_type": "code",
   "execution_count": 110,
   "metadata": {},
   "outputs": [],
   "source": [
    "def process_tables(file_path, neighborhood_column, colnames):\n",
    "    \"\"\"\n",
    "    colnames = list of column names that you want to add\n",
    "    neighborhood_column = the column name in the table that designates neighborhood\n",
    "    \n",
    "    \"\"\"\n",
    "    column_list = [neighborhood_column]\n",
    "    column_list = column_list + colnames\n",
    "    \n",
    "    if neighborhood_column == \"Community\":\n",
    "        df = pd.read_csv(file_path)\n",
    "    else:\n",
    "        df = pd.read_csv(file_path).iloc[:, 1:]\n",
    "    \n",
    "    df.dropna(axis = 0, subset= [neighborhood_column], inplace = True)\n",
    "\n",
    "    # filter for los angeles neighborhoods\n",
    "    la = df[(df[neighborhood_column].str.contains(\"Los Angeles\")) | (df[neighborhood_column].str.contains(\"Unincorporated - Angeles National Forest\"))]\n",
    "    \n",
    "    # Remove LA from neighborhood name\n",
    "    la.loc[:, neighborhood_column] = la.loc[:, neighborhood_column].str.replace(\"Los Angeles - \", \"\")\n",
    "    #la.loc[:, \"geo_merge\"] = la.loc[:, \"geo_merge\"].str.replace(\"Unincorporated - \", \"\")\n",
    "\n",
    "    # Drop other county names\n",
    "   # la = la[~la[\"geo_merge\"].str.contains(\"Unincorporated\")]\n",
    "    la = la[~la[neighborhood_column].str.contains(\"Los Angeles County\")]\n",
    "    \n",
    "\n",
    "\n",
    "    # filter data for the last week\n",
    "    if \"ep_date\" in la:\n",
    "        la[\"ep_date\"] = pd.to_datetime(la[\"ep_date\"])\n",
    "        la = la.sort_values(by=\"ep_date\")\n",
    "        la_week = la.drop_duplicates(subset=[neighborhood_column], keep = \"last\")[column_list+ [\"ep_date\"] ]\n",
    "        la_week=la_week.rename(columns={neighborhood_column:'Neighborhood',\n",
    "                                    \"ep_date\": \"Date\"\n",
    "                      })    \n",
    "   \n",
    "    elif \"Date (Dose 1)\" in la:\n",
    "        la[\"Date (Dose 1)\"] = pd.to_datetime(la[\"Date (Dose 1)\"])\n",
    "        la = la.sort_values(by=\"Date (Dose 1)\")\n",
    "        la_week = la.drop_duplicates(subset=[neighborhood_column], keep = \"last\")[column_list+ [\"Date (Dose 1)\"] ]\n",
    "        la_week=la_week.rename(columns={neighborhood_column:'Neighborhood',\n",
    "                                    \"Date (Dose 1)\": \"Date\"\n",
    "                      })    \n",
    "   \n",
    "    else: \n",
    "        la_week = la[column_list]\n",
    "        la_week=la_week.rename(columns={neighborhood_column:'Neighborhood'})    \n",
    "   \n",
    "        \n",
    "\n",
    "\n",
    "    return la_week"
   ]
  },
  {
   "cell_type": "code",
   "execution_count": null,
   "metadata": {},
   "outputs": [],
   "source": [
    "two_week = process_tables(\"data/LA_County_Covid19_CSA_14day_case_death_table.csv\",\"geo_merge\",  [\"case_14day_rate\", \"adj_case_14day_rate\"])\n",
    "week = process_tables(\"data/LA_County_Covid19_CSA_7day_case_death_table.csv\", \"geo_merge\", [\"cases_7day\", \"death_7day\"])\n",
    "cumulative = process_tables(\"data/LA_County_Covid19_CSA_case_death_table.csv\",\"geo_merge\", [\"cases_final\", \"deaths_final\", \"population\"])\n",
    "vax = process_tables(\"data/LAC_Vaccine_City_Data_old.csv\", \"Community\", [\"Cumulative 16+ (Dose 1)\", \"Cumulative Percentage 16+ (Dose 1)\", \"Cumulative Percentage 12-17 (Dose 1)\", \"Cumulative Percentage 65+ (Dose 1)\"])"
   ]
  },
  {
   "cell_type": "code",
   "execution_count": 114,
   "metadata": {},
   "outputs": [],
   "source": [
    "drop_names = [\"East Los Angeles\", \"Lake Los Angeles\"]"
   ]
  },
  {
   "cell_type": "code",
   "execution_count": 115,
   "metadata": {
    "scrolled": true
   },
   "outputs": [],
   "source": [
    "df = pd.merge(pd.merge(two_week, week, how=\"left\", on = \"Neighborhood\"), cumulative, how=\"left\",  on = \"Neighborhood\")\n",
    "df = pd.merge(df, vax, how=\"left\", on = \"Neighborhood\")\n",
    "df = df[df[\"Neighborhood\"] != \"Angeles National Forest\"]\n",
    "df[\"Neighborhood\"] = df[\"Neighborhood\"].str.replace(\"Unincorporated - \", \"\")\n",
    "df = df[~df[\"Neighborhood\"].isin(drop_names)]\n",
    "df = df.sort_values(by=\"Neighborhood\")\n",
    "df = df.rename(columns={\"Date_x\": \"date_14day\",\n",
    "                        \"Date_y\": \"date_7day\"\n",
    "    \n",
    "})\n",
    "\n",
    "# convert all to float \n",
    "df[[\"death_7day\", \"cases_final\", \"deaths_final\", \"population\"]] = df[[\"death_7day\", \"cases_final\", \"deaths_final\", \"population\"]].astype(float)\n"
   ]
  },
  {
   "cell_type": "code",
   "execution_count": 116,
   "metadata": {},
   "outputs": [],
   "source": [
    "last_date = df[\"date_14day\"].max()"
   ]
  },
  {
   "cell_type": "code",
   "execution_count": 117,
   "metadata": {},
   "outputs": [],
   "source": [
    "prior_date = last_date + dt.timedelta(days = -6)"
   ]
  },
  {
   "cell_type": "code",
   "execution_count": 118,
   "metadata": {},
   "outputs": [],
   "source": [
    "two_week_date = last_date + dt.timedelta(days = -14)"
   ]
  },
  {
   "cell_type": "code",
   "execution_count": 119,
   "metadata": {},
   "outputs": [
    {
     "name": "stdout",
     "output_type": "stream",
     "text": [
      "2021-07-23 00:00:00\n"
     ]
    }
   ],
   "source": [
    "print(last_date)"
   ]
  },
  {
   "cell_type": "code",
   "execution_count": 120,
   "metadata": {},
   "outputs": [
    {
     "name": "stdout",
     "output_type": "stream",
     "text": [
      "2021-07-17 00:00:00\n"
     ]
    }
   ],
   "source": [
    "print(prior_date)"
   ]
  },
  {
   "cell_type": "code",
   "execution_count": 121,
   "metadata": {},
   "outputs": [],
   "source": [
    "# create trends\n",
    "df[\"top_case_rate\"]= df.loc[(df[\"cases_7day\"] > 10) & (df[\"date_14day\"] >= last_date)][\"case_14day_rate\"].rank(ascending=False)\n",
    "df[\"top_new_cases\"]= df[\"cases_7day\"].rank(ascending=False)"
   ]
  },
  {
   "cell_type": "code",
   "execution_count": 122,
   "metadata": {},
   "outputs": [],
   "source": [
    "# rename columns with dates\n",
    "df = df.rename(columns={\"cases_7day\": f'New Cases {prior_date.strftime(\"%-m.%-d\")} to {last_date.strftime(\"%-m.%-d\")}',\n",
    "                         \"death_7day\": f'New Deaths {prior_date.strftime(\"%-m.%-d\")} to {last_date.strftime(\"%-m.%-d\")}',\n",
    "                         \"case_14day_rate\": f'Case Rate {two_week_date.strftime(\"%-m.%-d\")} to {last_date.strftime(\"%-m.%-d\")}',\n",
    "                         \"adj_case_14day_rate\": f'Adjusted Case Rate {two_week_date.strftime(\"%-m.%-d\")} to {last_date.strftime(\"%-m.%-d\")}',\n",
    "                        \"cases_final\": f'Cumulative Confirmed Case Count {last_date.strftime(\"%-m.%-d\")}',\n",
    "                         \"deaths_final\": f'Cumulative Death Count {last_date.strftime(\"%-m.%-d\")}',\n",
    "                        \"Cumulative 16+ (Dose 1)\": \"persons_vaccinated\", \n",
    "                        \"Cumulative Percentage 16+ (Dose 1)\": \"percent_of_ppl_vaccinated\",\n",
    "                        \"Cumulative Percentage 12-17 (Dose 1)\": \"percent_12_to_17_vaccinated\",\n",
    "                        \"Cumulative Percentage 65+ (Dose 1)\": \"percent_65_plus_vaccinated\"\n",
    "                        \n",
    "\n",
    "                        }\n",
    "               )\n"
   ]
  },
  {
   "cell_type": "code",
   "execution_count": 123,
   "metadata": {},
   "outputs": [
    {
     "data": {
      "text/plain": [
       "(139, 17)"
      ]
     },
     "execution_count": 123,
     "metadata": {},
     "output_type": "execute_result"
    }
   ],
   "source": [
    "df.shape"
   ]
  },
  {
   "cell_type": "code",
   "execution_count": 126,
   "metadata": {},
   "outputs": [],
   "source": [
    "df.to_csv(\"data/testing_neighborhoods.csv\", index = False)"
   ]
  },
  {
   "cell_type": "markdown",
   "metadata": {},
   "source": [
    "# Create areas"
   ]
  },
  {
   "cell_type": "code",
   "execution_count": 128,
   "metadata": {},
   "outputs": [],
   "source": [
    "def process_area_case_rates(file_path, community, colnames):\n",
    "    \"\"\"\n",
    "    colnames = list of column names that you want to add\n",
    "    community = the column name in the table that designates neighborhood\n",
    "    \n",
    "    \"\"\"\n",
    "    column_list = [community]\n",
    "    column_list = column_list + colnames\n",
    "    \n",
    "    df = pd.read_csv(file_path).iloc[:, 1:]\n",
    "    df.dropna(axis = 0, subset= [community], inplace = True)\n",
    "    last_week = df[df[\"ep_date\"] == prior_date.strftime(\"%Y-%m-%d\")]\n",
    "    this_week = df[df[\"ep_date\"] == last_date.strftime(\"%Y-%m-%d\")]\n",
    "    df = pd.concat([last_week, this_week])\n",
    "\n",
    "    # filter for los angeles neighborhoods\n",
    "    la = df[(df[community].str.contains(\"Los Angeles\")) | (df[community].str.contains(\"Unincorporated - Angeles National Forest\"))]\n",
    "    \n",
    "    # Remove LA from neighborhood name\n",
    "    la.loc[:, community] = la.loc[:, community].str.replace(\"Los Angeles - \", \"\")\n",
    "\n",
    "    # Drop other county names\n",
    "    la = la[~la[community].str.contains(\"Los Angeles County\")]\n",
    "    \n",
    "\n",
    "\n",
    "    two_weeks=la[column_list].rename(columns={community:'Neighborhood',\n",
    "                                    \"ep_date\": \"Date\"\n",
    "                      })    \n",
    "    \n",
    "    two_weeks = two_weeks.groupby(\"Neighborhood\").sum().reset_index().rename(columns={'cases_7day':'two_week_cases',\n",
    "                                    \"death_7day\": \"two_week_deaths\"\n",
    "    \n",
    "                                                                                     })\n",
    "        \n",
    "\n",
    "\n",
    "    return two_weeks"
   ]
  },
  {
   "cell_type": "code",
   "execution_count": null,
   "metadata": {},
   "outputs": [],
   "source": [
    "two_week_cases = process_area_case_rates(\"data/LA_County_Covid19_CSA_7day_case_death_table.csv\", \"geo_merge\", [\"cases_7day\", \"death_7day\"])"
   ]
  },
  {
   "cell_type": "code",
   "execution_count": 191,
   "metadata": {},
   "outputs": [],
   "source": [
    "areas = pd.read_csv(\"data/area_mappings.csv\")"
   ]
  },
  {
   "cell_type": "code",
   "execution_count": 192,
   "metadata": {},
   "outputs": [],
   "source": [
    "df = pd.read_csv(\"data/testing_neighborhoods.csv\")[[\"Neighborhood\", \"population\"]]"
   ]
  },
  {
   "cell_type": "code",
   "execution_count": 193,
   "metadata": {},
   "outputs": [],
   "source": [
    "df = pd.merge(df, pd.merge(two_week_cases, areas, on = \"Neighborhood\"))"
   ]
  },
  {
   "cell_type": "code",
   "execution_count": 194,
   "metadata": {},
   "outputs": [],
   "source": [
    "area_df = df.groupby(\"Area\").sum().reset_index()"
   ]
  },
  {
   "cell_type": "code",
   "execution_count": 196,
   "metadata": {},
   "outputs": [],
   "source": [
    "area_df[\"percent_cases\"]= area_df[\"two_week_cases\"]/area_df[\"two_week_cases\"].sum()\n",
    "area_df[\"percent_pop\"]= area_df[\"population\"]/area_df[\"population\"].sum()\n",
    "area_df[\"case_rate\"]= round((area_df[\"two_week_cases\"]/area_df[\"population\"])*100_000,0)"
   ]
  },
  {
   "cell_type": "code",
   "execution_count": 201,
   "metadata": {},
   "outputs": [],
   "source": [
    "area_df.to_csv(\"data/area_summary.csv\", index=False)"
   ]
  },
  {
   "cell_type": "markdown",
   "metadata": {},
   "source": [
    "### Read in HV data"
   ]
  },
  {
   "cell_type": "code",
   "execution_count": 49,
   "metadata": {},
   "outputs": [],
   "source": [
    "# read in hv data\n",
    "hv = pd.read_csv(\"../Declan/Data/hv_data/hv_subset_2021.csv\", low_memory = False)"
   ]
  },
  {
   "cell_type": "code",
   "execution_count": 50,
   "metadata": {},
   "outputs": [],
   "source": [
    "# convert date to datetime object\n",
    "#hv[\"result_datetime\"] = pd.to_datetime(hv[\"result_datetime\"])\n",
    "\n",
    "hv[\"result_date\"] = pd.to_datetime(hv[\"result_date\"])"
   ]
  },
  {
   "cell_type": "code",
   "execution_count": 51,
   "metadata": {},
   "outputs": [],
   "source": [
    "# grab the week start date (Saturday)\n",
    "week_start_date = last_date - pd.DateOffset(days=6)"
   ]
  },
  {
   "cell_type": "code",
   "execution_count": 52,
   "metadata": {},
   "outputs": [],
   "source": [
    "# filter data for the last week\n",
    "hv_week = hv[(hv[\"result_date\"]>= week_start_date.strftime(\"%Y-%-m-%-d\"))&\n",
    "    (hv[\"result_date\"]<= last_date.strftime(\"%Y-%-m-%-d\"))][[\"zip\", \"display_value\"]]"
   ]
  },
  {
   "cell_type": "code",
   "execution_count": 53,
   "metadata": {},
   "outputs": [],
   "source": [
    "# quick cleaning for zip column\n",
    "hv_week[\"zip\"] = hv_week[\"zip\"].str.replace(\"`\", \"\")\n",
    "hv_week = hv_week[hv_week['zip'].astype(str).str.isdigit()]"
   ]
  },
  {
   "cell_type": "code",
   "execution_count": 54,
   "metadata": {},
   "outputs": [],
   "source": [
    "# Group by zip code and get test result counts \n",
    "tests = pd.DataFrame(hv_week.groupby([\"zip\", \"display_value\"]).size()).reset_index().rename(columns={0:'count'})"
   ]
  },
  {
   "cell_type": "code",
   "execution_count": 55,
   "metadata": {},
   "outputs": [],
   "source": [
    "# Pivot\n",
    "tests = tests.pivot(index='display_value', columns='zip').reset_index().transpose()\n",
    "tests = tests.reset_index().drop(columns='level_0')"
   ]
  },
  {
   "cell_type": "code",
   "execution_count": 56,
   "metadata": {},
   "outputs": [],
   "source": [
    "# Get labels\n",
    "labels = tests.iloc[0]"
   ]
  },
  {
   "cell_type": "code",
   "execution_count": 57,
   "metadata": {},
   "outputs": [],
   "source": [
    "# drop first row\n",
    "hv_table = tests[1:]\n",
    "# rename column\n",
    "hv_table.columns= labels"
   ]
  },
  {
   "cell_type": "code",
   "execution_count": 58,
   "metadata": {},
   "outputs": [],
   "source": [
    "# reset index\n",
    "hv_table = hv_table.set_index(\"\")\n",
    "# fill NA\n",
    "hv_table = hv_table.fillna(0).astype(\"int\")"
   ]
  },
  {
   "cell_type": "code",
   "execution_count": 59,
   "metadata": {},
   "outputs": [],
   "source": [
    "# calculate total\n",
    "hv_table['Total'] = hv_table['Negative']+hv_table['Positive']\n",
    "# calculate test positivity\n",
    "hv_table[\"Test Posivitiy\"] = hv_table[\"Positive\"]/hv_table[\"Total\"]"
   ]
  },
  {
   "cell_type": "code",
   "execution_count": 60,
   "metadata": {},
   "outputs": [],
   "source": [
    "hv_table = hv_table.reset_index().rename(columns = {hv_table.index.name: \"Zip\"})"
   ]
  },
  {
   "cell_type": "code",
   "execution_count": 61,
   "metadata": {},
   "outputs": [],
   "source": [
    "hv_table[\"Date\"] = pd.to_datetime(last_date, format=\"%d-%b-%Y\")"
   ]
  },
  {
   "cell_type": "code",
   "execution_count": 62,
   "metadata": {},
   "outputs": [],
   "source": [
    "hv_table.to_csv(\"data/test_positivity_zip.csv\", index = False)"
   ]
  }
 ],
 "metadata": {
  "kernelspec": {
   "display_name": "Python 3",
   "language": "python",
   "name": "python3"
  },
  "language_info": {
   "codemirror_mode": {
    "name": "ipython",
    "version": 3
   },
   "file_extension": ".py",
   "mimetype": "text/x-python",
   "name": "python",
   "nbconvert_exporter": "python",
   "pygments_lexer": "ipython3",
   "version": "3.7.4"
  }
 },
 "nbformat": 4,
 "nbformat_minor": 2
}
